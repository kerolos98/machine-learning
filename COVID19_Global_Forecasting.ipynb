{
  "nbformat": 4,
  "nbformat_minor": 0,
  "metadata": {
    "colab": {
      "name": "COVID19 Global Forecasting.ipynb",
      "provenance": [],
      "collapsed_sections": [],
      "mount_file_id": "1yoOV8v3SgpgiADfuSSD7RoYFHR2_o2Jn",
      "authorship_tag": "ABX9TyO67pNW99OhC7yNojGrJ4jr",
      "include_colab_link": true
    },
    "kernelspec": {
      "name": "python3",
      "display_name": "Python 3"
    }
  },
  "cells": [
    {
      "cell_type": "markdown",
      "metadata": {
        "id": "view-in-github",
        "colab_type": "text"
      },
      "source": [
        "<a href=\"https://colab.research.google.com/github/kerolos98/machine-learning/blob/master/COVID19_Global_Forecasting.ipynb\" target=\"_parent\"><img src=\"https://colab.research.google.com/assets/colab-badge.svg\" alt=\"Open In Colab\"/></a>"
      ]
    },
    {
      "cell_type": "code",
      "metadata": {
        "id": "RfmJY0rnVV3G",
        "colab_type": "code",
        "outputId": "5fc23a54-a11d-454c-bf7f-9fe6eab0be8a",
        "colab": {
          "base_uri": "https://localhost:8080/",
          "height": 34
        }
      },
      "source": [
        "import pandas as pd\n",
        "pd.plotting.register_matplotlib_converters()\n",
        "import matplotlib.pyplot as plt\n",
        "%matplotlib inline\n",
        "import seaborn as sns\n",
        "print(\"Setup Complete\")"
      ],
      "execution_count": 1,
      "outputs": [
        {
          "output_type": "stream",
          "text": [
            "Setup Complete\n"
          ],
          "name": "stdout"
        }
      ]
    },
    {
      "cell_type": "code",
      "metadata": {
        "id": "z9VG71gtXq9a",
        "colab_type": "code",
        "colab": {}
      },
      "source": [
        "# Path of the file to read\n",
        "TrainCov_filepath = \"/content/train.csv\"\n",
        "\n",
        "# Read the file into a variable spotify_data\n",
        "TrainCov_data = pd.read_csv(TrainCov_filepath,dtype={'Country/Region':str} )"
      ],
      "execution_count": 0,
      "outputs": []
    },
    {
      "cell_type": "code",
      "metadata": {
        "id": "O06Hcc38YKty",
        "colab_type": "code",
        "outputId": "a0486da0-48ed-458b-c4da-a04754f8cccb",
        "colab": {
          "base_uri": "https://localhost:8080/",
          "height": 68
        }
      },
      "source": [
        "\n",
        "print(TrainCov_data.columns)"
      ],
      "execution_count": 3,
      "outputs": [
        {
          "output_type": "stream",
          "text": [
            "Index(['Id', 'Province/State', 'Country/Region', 'Lat', 'Long', 'Date',\n",
            "       'ConfirmedCases', 'Fatalities'],\n",
            "      dtype='object')\n"
          ],
          "name": "stdout"
        }
      ]
    },
    {
      "cell_type": "code",
      "metadata": {
        "id": "DA2uf47gYwVa",
        "colab_type": "code",
        "colab": {}
      },
      "source": [
        "TrainCov_data.drop(['Id'], axis=1, inplace=True)\n"
      ],
      "execution_count": 0,
      "outputs": []
    },
    {
      "cell_type": "code",
      "metadata": {
        "id": "v1WO382wZhA1",
        "colab_type": "code",
        "outputId": "2cd7273b-c274-4d76-ab9f-e71e0bd99bc7",
        "colab": {
          "base_uri": "https://localhost:8080/",
          "height": 68
        }
      },
      "source": [
        "print(TrainCov_data.columns)"
      ],
      "execution_count": 5,
      "outputs": [
        {
          "output_type": "stream",
          "text": [
            "Index(['Province/State', 'Country/Region', 'Lat', 'Long', 'Date',\n",
            "       'ConfirmedCases', 'Fatalities'],\n",
            "      dtype='object')\n"
          ],
          "name": "stdout"
        }
      ]
    },
    {
      "cell_type": "code",
      "metadata": {
        "id": "BXrcWJIWZ3i_",
        "colab_type": "code",
        "outputId": "229df1de-df13-4473-9e24-132e5d09b23c",
        "colab": {
          "base_uri": "https://localhost:8080/",
          "height": 297
        }
      },
      "source": [
        "TrainCov_data.describe()\n"
      ],
      "execution_count": 6,
      "outputs": [
        {
          "output_type": "execute_result",
          "data": {
            "text/html": [
              "<div>\n",
              "<style scoped>\n",
              "    .dataframe tbody tr th:only-of-type {\n",
              "        vertical-align: middle;\n",
              "    }\n",
              "\n",
              "    .dataframe tbody tr th {\n",
              "        vertical-align: top;\n",
              "    }\n",
              "\n",
              "    .dataframe thead th {\n",
              "        text-align: right;\n",
              "    }\n",
              "</style>\n",
              "<table border=\"1\" class=\"dataframe\">\n",
              "  <thead>\n",
              "    <tr style=\"text-align: right;\">\n",
              "      <th></th>\n",
              "      <th>Lat</th>\n",
              "      <th>Long</th>\n",
              "      <th>ConfirmedCases</th>\n",
              "      <th>Fatalities</th>\n",
              "    </tr>\n",
              "  </thead>\n",
              "  <tbody>\n",
              "    <tr>\n",
              "      <th>count</th>\n",
              "      <td>16188.000000</td>\n",
              "      <td>16188.000000</td>\n",
              "      <td>16188.000000</td>\n",
              "      <td>16188.000000</td>\n",
              "    </tr>\n",
              "    <tr>\n",
              "      <th>mean</th>\n",
              "      <td>26.287693</td>\n",
              "      <td>4.766191</td>\n",
              "      <td>249.483012</td>\n",
              "      <td>8.237583</td>\n",
              "    </tr>\n",
              "    <tr>\n",
              "      <th>std</th>\n",
              "      <td>22.935159</td>\n",
              "      <td>79.923496</td>\n",
              "      <td>3168.929157</td>\n",
              "      <td>132.127695</td>\n",
              "    </tr>\n",
              "    <tr>\n",
              "      <th>min</th>\n",
              "      <td>-41.454500</td>\n",
              "      <td>-157.498300</td>\n",
              "      <td>0.000000</td>\n",
              "      <td>0.000000</td>\n",
              "    </tr>\n",
              "    <tr>\n",
              "      <th>25%</th>\n",
              "      <td>13.145425</td>\n",
              "      <td>-71.516375</td>\n",
              "      <td>0.000000</td>\n",
              "      <td>0.000000</td>\n",
              "    </tr>\n",
              "    <tr>\n",
              "      <th>50%</th>\n",
              "      <td>32.985550</td>\n",
              "      <td>9.775000</td>\n",
              "      <td>0.000000</td>\n",
              "      <td>0.000000</td>\n",
              "    </tr>\n",
              "    <tr>\n",
              "      <th>75%</th>\n",
              "      <td>42.501575</td>\n",
              "      <td>64.688975</td>\n",
              "      <td>5.000000</td>\n",
              "      <td>0.000000</td>\n",
              "    </tr>\n",
              "    <tr>\n",
              "      <th>max</th>\n",
              "      <td>71.706900</td>\n",
              "      <td>174.886000</td>\n",
              "      <td>67800.000000</td>\n",
              "      <td>3122.000000</td>\n",
              "    </tr>\n",
              "  </tbody>\n",
              "</table>\n",
              "</div>"
            ],
            "text/plain": [
              "                Lat          Long  ConfirmedCases    Fatalities\n",
              "count  16188.000000  16188.000000    16188.000000  16188.000000\n",
              "mean      26.287693      4.766191      249.483012      8.237583\n",
              "std       22.935159     79.923496     3168.929157    132.127695\n",
              "min      -41.454500   -157.498300        0.000000      0.000000\n",
              "25%       13.145425    -71.516375        0.000000      0.000000\n",
              "50%       32.985550      9.775000        0.000000      0.000000\n",
              "75%       42.501575     64.688975        5.000000      0.000000\n",
              "max       71.706900    174.886000    67800.000000   3122.000000"
            ]
          },
          "metadata": {
            "tags": []
          },
          "execution_count": 6
        }
      ]
    },
    {
      "cell_type": "code",
      "metadata": {
        "id": "0yDwUTmpaKGi",
        "colab_type": "code",
        "outputId": "dbe1fcb6-9b33-4fdf-fec8-77fefca46465",
        "colab": {
          "base_uri": "https://localhost:8080/",
          "height": 283
        }
      },
      "source": [
        "sns.lineplot(data=TrainCov_data['ConfirmedCases'], label=\"ConfirmedCases\")\n",
        "sns.lineplot(data=TrainCov_data['Fatalities'], label=\"Fatalities\")"
      ],
      "execution_count": 7,
      "outputs": [
        {
          "output_type": "execute_result",
          "data": {
            "text/plain": [
              "<matplotlib.axes._subplots.AxesSubplot at 0x7f702ef86cf8>"
            ]
          },
          "metadata": {
            "tags": []
          },
          "execution_count": 7
        },
        {
          "output_type": "display_data",
          "data": {
            "image/png": "[encoded data removed]",
            "text/plain": [
              "<Figure size 432x288 with 1 Axes>"
            ]
          },
          "metadata": {
            "tags": []
          }
        }
      ]
    },
    {
      "cell_type": "code",
      "metadata": {
        "id": "ngXDj0K1bAV6",
        "colab_type": "code",
        "outputId": "cbadc0d3-3a8c-4a3a-d801-fbf62a5b33ee",
        "colab": {
          "base_uri": "https://localhost:8080/",
          "height": 204
        }
      },
      "source": [
        "TrainCov_data.head()"
      ],
      "execution_count": 8,
      "outputs": [
        {
          "output_type": "execute_result",
          "data": {
            "text/html": [
              "<div>\n",
              "<style scoped>\n",
              "    .dataframe tbody tr th:only-of-type {\n",
              "        vertical-align: middle;\n",
              "    }\n",
              "\n",
              "    .dataframe tbody tr th {\n",
              "        vertical-align: top;\n",
              "    }\n",
              "\n",
              "    .dataframe thead th {\n",
              "        text-align: right;\n",
              "    }\n",
              "</style>\n",
              "<table border=\"1\" class=\"dataframe\">\n",
              "  <thead>\n",
              "    <tr style=\"text-align: right;\">\n",
              "      <th></th>\n",
              "      <th>Province/State</th>\n",
              "      <th>Country/Region</th>\n",
              "      <th>Lat</th>\n",
              "      <th>Long</th>\n",
              "      <th>Date</th>\n",
              "      <th>ConfirmedCases</th>\n",
              "      <th>Fatalities</th>\n",
              "    </tr>\n",
              "  </thead>\n",
              "  <tbody>\n",
              "    <tr>\n",
              "      <th>0</th>\n",
              "      <td>NaN</td>\n",
              "      <td>Afghanistan</td>\n",
              "      <td>33.0</td>\n",
              "      <td>65.0</td>\n",
              "      <td>2020-01-22</td>\n",
              "      <td>0.0</td>\n",
              "      <td>0.0</td>\n",
              "    </tr>\n",
              "    <tr>\n",
              "      <th>1</th>\n",
              "      <td>NaN</td>\n",
              "      <td>Afghanistan</td>\n",
              "      <td>33.0</td>\n",
              "      <td>65.0</td>\n",
              "      <td>2020-01-23</td>\n",
              "      <td>0.0</td>\n",
              "      <td>0.0</td>\n",
              "    </tr>\n",
              "    <tr>\n",
              "      <th>2</th>\n",
              "      <td>NaN</td>\n",
              "      <td>Afghanistan</td>\n",
              "      <td>33.0</td>\n",
              "      <td>65.0</td>\n",
              "      <td>2020-01-24</td>\n",
              "      <td>0.0</td>\n",
              "      <td>0.0</td>\n",
              "    </tr>\n",
              "    <tr>\n",
              "      <th>3</th>\n",
              "      <td>NaN</td>\n",
              "      <td>Afghanistan</td>\n",
              "      <td>33.0</td>\n",
              "      <td>65.0</td>\n",
              "      <td>2020-01-25</td>\n",
              "      <td>0.0</td>\n",
              "      <td>0.0</td>\n",
              "    </tr>\n",
              "    <tr>\n",
              "      <th>4</th>\n",
              "      <td>NaN</td>\n",
              "      <td>Afghanistan</td>\n",
              "      <td>33.0</td>\n",
              "      <td>65.0</td>\n",
              "      <td>2020-01-26</td>\n",
              "      <td>0.0</td>\n",
              "      <td>0.0</td>\n",
              "    </tr>\n",
              "  </tbody>\n",
              "</table>\n",
              "</div>"
            ],
            "text/plain": [
              "  Province/State Country/Region   Lat  ...        Date ConfirmedCases  Fatalities\n",
              "0            NaN    Afghanistan  33.0  ...  2020-01-22            0.0         0.0\n",
              "1            NaN    Afghanistan  33.0  ...  2020-01-23            0.0         0.0\n",
              "2            NaN    Afghanistan  33.0  ...  2020-01-24            0.0         0.0\n",
              "3            NaN    Afghanistan  33.0  ...  2020-01-25            0.0         0.0\n",
              "4            NaN    Afghanistan  33.0  ...  2020-01-26            0.0         0.0\n",
              "\n",
              "[5 rows x 7 columns]"
            ]
          },
          "metadata": {
            "tags": []
          },
          "execution_count": 8
        }
      ]
    },
    {
      "cell_type": "code",
      "metadata": {
        "id": "nmfBbO3Cbn9v",
        "colab_type": "code",
        "colab": {}
      },
      "source": [
        "sorted_df = TrainCov_data.groupby(\"Country/Region\").agg(\"sum\").sort_values(by=['Fatalities'], ascending=False).reset_index()"
      ],
      "execution_count": 0,
      "outputs": []
    },
    {
      "cell_type": "code",
      "metadata": {
        "id": "HvF6dp7WdO_T",
        "colab_type": "code",
        "outputId": "6e6c1c32-7a76-416a-c533-62d005c772c2",
        "colab": {
          "base_uri": "https://localhost:8080/",
          "height": 204
        }
      },
      "source": [
        "sorted_df.head()"
      ],
      "execution_count": 10,
      "outputs": [
        {
          "output_type": "execute_result",
          "data": {
            "text/html": [
              "<div>\n",
              "<style scoped>\n",
              "    .dataframe tbody tr th:only-of-type {\n",
              "        vertical-align: middle;\n",
              "    }\n",
              "\n",
              "    .dataframe tbody tr th {\n",
              "        vertical-align: top;\n",
              "    }\n",
              "\n",
              "    .dataframe thead th {\n",
              "        text-align: right;\n",
              "    }\n",
              "</style>\n",
              "<table border=\"1\" class=\"dataframe\">\n",
              "  <thead>\n",
              "    <tr style=\"text-align: right;\">\n",
              "      <th></th>\n",
              "      <th>Country/Region</th>\n",
              "      <th>Lat</th>\n",
              "      <th>Long</th>\n",
              "      <th>ConfirmedCases</th>\n",
              "      <th>Fatalities</th>\n",
              "    </tr>\n",
              "  </thead>\n",
              "  <tbody>\n",
              "    <tr>\n",
              "      <th>0</th>\n",
              "      <td>China</td>\n",
              "      <td>61750.1919</td>\n",
              "      <td>210011.9229</td>\n",
              "      <td>3124622.0</td>\n",
              "      <td>103112.0</td>\n",
              "    </tr>\n",
              "    <tr>\n",
              "      <th>1</th>\n",
              "      <td>Italy</td>\n",
              "      <td>2451.0000</td>\n",
              "      <td>684.0000</td>\n",
              "      <td>238049.0</td>\n",
              "      <td>16221.0</td>\n",
              "    </tr>\n",
              "    <tr>\n",
              "      <th>2</th>\n",
              "      <td>Iran</td>\n",
              "      <td>1824.0000</td>\n",
              "      <td>3021.0000</td>\n",
              "      <td>150833.0</td>\n",
              "      <td>7166.0</td>\n",
              "    </tr>\n",
              "    <tr>\n",
              "      <th>3</th>\n",
              "      <td>Spain</td>\n",
              "      <td>2280.0000</td>\n",
              "      <td>-228.0000</td>\n",
              "      <td>64917.0</td>\n",
              "      <td>2325.0</td>\n",
              "    </tr>\n",
              "    <tr>\n",
              "      <th>4</th>\n",
              "      <td>Korea, South</td>\n",
              "      <td>2052.0000</td>\n",
              "      <td>7296.0000</td>\n",
              "      <td>137889.0</td>\n",
              "      <td>1048.0</td>\n",
              "    </tr>\n",
              "  </tbody>\n",
              "</table>\n",
              "</div>"
            ],
            "text/plain": [
              "  Country/Region         Lat         Long  ConfirmedCases  Fatalities\n",
              "0          China  61750.1919  210011.9229       3124622.0    103112.0\n",
              "1          Italy   2451.0000     684.0000        238049.0     16221.0\n",
              "2           Iran   1824.0000    3021.0000        150833.0      7166.0\n",
              "3          Spain   2280.0000    -228.0000         64917.0      2325.0\n",
              "4   Korea, South   2052.0000    7296.0000        137889.0      1048.0"
            ]
          },
          "metadata": {
            "tags": []
          },
          "execution_count": 10
        }
      ]
    },
    {
      "cell_type": "code",
      "metadata": {
        "id": "WnhtAKPydXat",
        "colab_type": "code",
        "colab": {}
      },
      "source": [
        "death=sorted_df['Fatalities']/sorted_df['ConfirmedCases']"
      ],
      "execution_count": 0,
      "outputs": []
    },
    {
      "cell_type": "code",
      "metadata": {
        "id": "MVrSHhabd8R1",
        "colab_type": "code",
        "colab": {}
      },
      "source": [
        "sorted_df['DeathRatio'] = death\n",
        "covid_cnt_by_country = sorted_df[[\"Country/Region\", \"ConfirmedCases\", \"Fatalities\",\"DeathRatio\"]]"
      ],
      "execution_count": 0,
      "outputs": []
    },
    {
      "cell_type": "code",
      "metadata": {
        "id": "oEj0p9hTeqob",
        "colab_type": "code",
        "outputId": "aadeb409-cf95-4276-9fc3-ae9b0e0228fe",
        "colab": {
          "base_uri": "https://localhost:8080/",
          "height": 669
        }
      },
      "source": [
        "sorted_df.head(20)"
      ],
      "execution_count": 13,
      "outputs": [
        {
          "output_type": "execute_result",
          "data": {
            "text/html": [
              "<div>\n",
              "<style scoped>\n",
              "    .dataframe tbody tr th:only-of-type {\n",
              "        vertical-align: middle;\n",
              "    }\n",
              "\n",
              "    .dataframe tbody tr th {\n",
              "        vertical-align: top;\n",
              "    }\n",
              "\n",
              "    .dataframe thead th {\n",
              "        text-align: right;\n",
              "    }\n",
              "</style>\n",
              "<table border=\"1\" class=\"dataframe\">\n",
              "  <thead>\n",
              "    <tr style=\"text-align: right;\">\n",
              "      <th></th>\n",
              "      <th>Country/Region</th>\n",
              "      <th>Lat</th>\n",
              "      <th>Long</th>\n",
              "      <th>ConfirmedCases</th>\n",
              "      <th>Fatalities</th>\n",
              "      <th>DeathRatio</th>\n",
              "    </tr>\n",
              "  </thead>\n",
              "  <tbody>\n",
              "    <tr>\n",
              "      <th>0</th>\n",
              "      <td>China</td>\n",
              "      <td>61750.1919</td>\n",
              "      <td>210011.9229</td>\n",
              "      <td>3124622.0</td>\n",
              "      <td>103112.0</td>\n",
              "      <td>0.033000</td>\n",
              "    </tr>\n",
              "    <tr>\n",
              "      <th>1</th>\n",
              "      <td>Italy</td>\n",
              "      <td>2451.0000</td>\n",
              "      <td>684.0000</td>\n",
              "      <td>238049.0</td>\n",
              "      <td>16221.0</td>\n",
              "      <td>0.068141</td>\n",
              "    </tr>\n",
              "    <tr>\n",
              "      <th>2</th>\n",
              "      <td>Iran</td>\n",
              "      <td>1824.0000</td>\n",
              "      <td>3021.0000</td>\n",
              "      <td>150833.0</td>\n",
              "      <td>7166.0</td>\n",
              "      <td>0.047509</td>\n",
              "    </tr>\n",
              "    <tr>\n",
              "      <th>3</th>\n",
              "      <td>Spain</td>\n",
              "      <td>2280.0000</td>\n",
              "      <td>-228.0000</td>\n",
              "      <td>64917.0</td>\n",
              "      <td>2325.0</td>\n",
              "      <td>0.035815</td>\n",
              "    </tr>\n",
              "    <tr>\n",
              "      <th>4</th>\n",
              "      <td>Korea, South</td>\n",
              "      <td>2052.0000</td>\n",
              "      <td>7296.0000</td>\n",
              "      <td>137889.0</td>\n",
              "      <td>1048.0</td>\n",
              "      <td>0.007600</td>\n",
              "    </tr>\n",
              "    <tr>\n",
              "      <th>5</th>\n",
              "      <td>France</td>\n",
              "      <td>2892.1800</td>\n",
              "      <td>652.1541</td>\n",
              "      <td>48132.0</td>\n",
              "      <td>930.0</td>\n",
              "      <td>0.019322</td>\n",
              "    </tr>\n",
              "    <tr>\n",
              "      <th>6</th>\n",
              "      <td>US</td>\n",
              "      <td>124872.8013</td>\n",
              "      <td>-278774.7849</td>\n",
              "      <td>31858.0</td>\n",
              "      <td>579.0</td>\n",
              "      <td>0.018174</td>\n",
              "    </tr>\n",
              "    <tr>\n",
              "      <th>7</th>\n",
              "      <td>Japan</td>\n",
              "      <td>2052.0000</td>\n",
              "      <td>7866.0000</td>\n",
              "      <td>12584.0</td>\n",
              "      <td>275.0</td>\n",
              "      <td>0.021853</td>\n",
              "    </tr>\n",
              "    <tr>\n",
              "      <th>8</th>\n",
              "      <td>United Kingdom</td>\n",
              "      <td>10085.9790</td>\n",
              "      <td>-8811.9720</td>\n",
              "      <td>12086.0</td>\n",
              "      <td>268.0</td>\n",
              "      <td>0.022174</td>\n",
              "    </tr>\n",
              "    <tr>\n",
              "      <th>9</th>\n",
              "      <td>Netherlands</td>\n",
              "      <td>4378.7856</td>\n",
              "      <td>-7622.8665</td>\n",
              "      <td>10548.0</td>\n",
              "      <td>189.0</td>\n",
              "      <td>0.017918</td>\n",
              "    </tr>\n",
              "    <tr>\n",
              "      <th>10</th>\n",
              "      <td>Cruise Ship</td>\n",
              "      <td>2020.2909</td>\n",
              "      <td>7959.3660</td>\n",
              "      <td>22668.0</td>\n",
              "      <td>151.0</td>\n",
              "      <td>0.006661</td>\n",
              "    </tr>\n",
              "    <tr>\n",
              "      <th>11</th>\n",
              "      <td>Switzerland</td>\n",
              "      <td>2668.6374</td>\n",
              "      <td>468.9675</td>\n",
              "      <td>15979.0</td>\n",
              "      <td>125.0</td>\n",
              "      <td>0.007823</td>\n",
              "    </tr>\n",
              "    <tr>\n",
              "      <th>12</th>\n",
              "      <td>Philippines</td>\n",
              "      <td>741.0000</td>\n",
              "      <td>6954.0000</td>\n",
              "      <td>1118.0</td>\n",
              "      <td>108.0</td>\n",
              "      <td>0.096601</td>\n",
              "    </tr>\n",
              "    <tr>\n",
              "      <th>13</th>\n",
              "      <td>Iraq</td>\n",
              "      <td>1881.0000</td>\n",
              "      <td>2508.0000</td>\n",
              "      <td>1377.0</td>\n",
              "      <td>107.0</td>\n",
              "      <td>0.077705</td>\n",
              "    </tr>\n",
              "    <tr>\n",
              "      <th>14</th>\n",
              "      <td>Germany</td>\n",
              "      <td>2907.0000</td>\n",
              "      <td>513.0000</td>\n",
              "      <td>53847.0</td>\n",
              "      <td>106.0</td>\n",
              "      <td>0.001969</td>\n",
              "    </tr>\n",
              "    <tr>\n",
              "      <th>15</th>\n",
              "      <td>San Marino</td>\n",
              "      <td>2504.7168</td>\n",
              "      <td>710.0946</td>\n",
              "      <td>955.0</td>\n",
              "      <td>54.0</td>\n",
              "      <td>0.056545</td>\n",
              "    </tr>\n",
              "    <tr>\n",
              "      <th>16</th>\n",
              "      <td>Australia</td>\n",
              "      <td>-12569.9706</td>\n",
              "      <td>72361.5171</td>\n",
              "      <td>3524.0</td>\n",
              "      <td>49.0</td>\n",
              "      <td>0.013905</td>\n",
              "    </tr>\n",
              "    <tr>\n",
              "      <th>17</th>\n",
              "      <td>Belgium</td>\n",
              "      <td>2897.4981</td>\n",
              "      <td>228.0000</td>\n",
              "      <td>7655.0</td>\n",
              "      <td>46.0</td>\n",
              "      <td>0.006009</td>\n",
              "    </tr>\n",
              "    <tr>\n",
              "      <th>18</th>\n",
              "      <td>Indonesia</td>\n",
              "      <td>-44.9901</td>\n",
              "      <td>6493.5141</td>\n",
              "      <td>951.0</td>\n",
              "      <td>45.0</td>\n",
              "      <td>0.047319</td>\n",
              "    </tr>\n",
              "    <tr>\n",
              "      <th>19</th>\n",
              "      <td>Taiwan*</td>\n",
              "      <td>1350.9000</td>\n",
              "      <td>6897.0000</td>\n",
              "      <td>1607.0</td>\n",
              "      <td>32.0</td>\n",
              "      <td>0.019913</td>\n",
              "    </tr>\n",
              "  </tbody>\n",
              "</table>\n",
              "</div>"
            ],
            "text/plain": [
              "    Country/Region          Lat  ...  Fatalities  DeathRatio\n",
              "0            China   61750.1919  ...    103112.0    0.033000\n",
              "1            Italy    2451.0000  ...     16221.0    0.068141\n",
              "2             Iran    1824.0000  ...      7166.0    0.047509\n",
              "3            Spain    2280.0000  ...      2325.0    0.035815\n",
              "4     Korea, South    2052.0000  ...      1048.0    0.007600\n",
              "5           France    2892.1800  ...       930.0    0.019322\n",
              "6               US  124872.8013  ...       579.0    0.018174\n",
              "7            Japan    2052.0000  ...       275.0    0.021853\n",
              "8   United Kingdom   10085.9790  ...       268.0    0.022174\n",
              "9      Netherlands    4378.7856  ...       189.0    0.017918\n",
              "10     Cruise Ship    2020.2909  ...       151.0    0.006661\n",
              "11     Switzerland    2668.6374  ...       125.0    0.007823\n",
              "12     Philippines     741.0000  ...       108.0    0.096601\n",
              "13            Iraq    1881.0000  ...       107.0    0.077705\n",
              "14         Germany    2907.0000  ...       106.0    0.001969\n",
              "15      San Marino    2504.7168  ...        54.0    0.056545\n",
              "16       Australia  -12569.9706  ...        49.0    0.013905\n",
              "17         Belgium    2897.4981  ...        46.0    0.006009\n",
              "18       Indonesia     -44.9901  ...        45.0    0.047319\n",
              "19         Taiwan*    1350.9000  ...        32.0    0.019913\n",
              "\n",
              "[20 rows x 6 columns]"
            ]
          },
          "metadata": {
            "tags": []
          },
          "execution_count": 13
        }
      ]
    },
    {
      "cell_type": "code",
      "metadata": {
        "id": "ofbalQYXetkr",
        "colab_type": "code",
        "outputId": "9f38cd09-8fac-4f99-a888-b73eb484bc7a",
        "colab": {
          "base_uri": "https://localhost:8080/",
          "height": 34
        }
      },
      "source": [
        "sorted_df.size"
      ],
      "execution_count": 14,
      "outputs": [
        {
          "output_type": "execute_result",
          "data": {
            "text/plain": [
              "978"
            ]
          },
          "metadata": {
            "tags": []
          },
          "execution_count": 14
        }
      ]
    },
    {
      "cell_type": "code",
      "metadata": {
        "id": "SZqmUQDHfKte",
        "colab_type": "code",
        "outputId": "d3ccbaf5-1dbe-484e-a5ee-03e72896df7f",
        "colab": {
          "base_uri": "https://localhost:8080/",
          "height": 293
        }
      },
      "source": [
        "sns.lineplot(data=sorted_df['ConfirmedCases'], label=\"ConfirmedCases\")\n",
        "sns.lineplot(data=sorted_df['Fatalities'], label=\"Fatalities\")"
      ],
      "execution_count": 15,
      "outputs": [
        {
          "output_type": "execute_result",
          "data": {
            "text/plain": [
              "<matplotlib.axes._subplots.AxesSubplot at 0x7f702e70cc18>"
            ]
          },
          "metadata": {
            "tags": []
          },
          "execution_count": 15
        },
        {
          "output_type": "display_data",
          "data": {
            "image/png": "[encoded data removed]",
            "text/plain": [
              "<Figure size 432x288 with 1 Axes>"
            ]
          },
          "metadata": {
            "tags": []
          }
        }
      ]
    },
    {
      "cell_type": "code",
      "metadata": {
        "id": "ARthMLt3fVsm",
        "colab_type": "code",
        "outputId": "0b4f931f-00e2-458a-9c8d-b5391a637feb",
        "colab": {
          "base_uri": "https://localhost:8080/",
          "height": 296
        }
      },
      "source": [
        "sns.scatterplot(x=sorted_df['Lat'], y=sorted_df['Long'],hue=sorted_df['DeathRatio'])"
      ],
      "execution_count": 16,
      "outputs": [
        {
          "output_type": "execute_result",
          "data": {
            "text/plain": [
              "<matplotlib.axes._subplots.AxesSubplot at 0x7f702d4a6048>"
            ]
          },
          "metadata": {
            "tags": []
          },
          "execution_count": 16
        },
        {
          "output_type": "display_data",
          "data": {
            "image/png": "[encoded data removed]",
            "text/plain": [
              "<Figure size 432x288 with 1 Axes>"
            ]
          },
          "metadata": {
            "tags": []
          }
        }
      ]
    },
    {
      "cell_type": "code",
      "metadata": {
        "id": "CbJlTycPhgeX",
        "colab_type": "code",
        "outputId": "3b85484d-d9e2-44cf-87da-daa5e4d1ac71",
        "colab": {
          "base_uri": "https://localhost:8080/",
          "height": 275
        }
      },
      "source": [
        "!pip install geopandas"
      ],
      "execution_count": 17,
      "outputs": [
        {
          "output_type": "stream",
          "text": [
            "Requirement already satisfied: geopandas in /usr/local/lib/python3.6/dist-packages (0.7.0)\n",
            "Requirement already satisfied: fiona in /usr/local/lib/python3.6/dist-packages (from geopandas) (1.8.13.post1)\n",
            "Requirement already satisfied: pandas>=0.23.0 in /usr/local/lib/python3.6/dist-packages (from geopandas) (0.25.3)\n",
            "Requirement already satisfied: pyproj>=2.2.0 in /usr/local/lib/python3.6/dist-packages (from geopandas) (2.6.0)\n",
            "Requirement already satisfied: shapely in /usr/local/lib/python3.6/dist-packages (from geopandas) (1.7.0)\n",
            "Requirement already satisfied: click<8,>=4.0 in /usr/local/lib/python3.6/dist-packages (from fiona->geopandas) (7.1.1)\n",
            "Requirement already satisfied: click-plugins>=1.0 in /usr/local/lib/python3.6/dist-packages (from fiona->geopandas) (1.1.1)\n",
            "Requirement already satisfied: six>=1.7 in /usr/local/lib/python3.6/dist-packages (from fiona->geopandas) (1.12.0)\n",
            "Requirement already satisfied: attrs>=17 in /usr/local/lib/python3.6/dist-packages (from fiona->geopandas) (19.3.0)\n",
            "Requirement already satisfied: cligj>=0.5 in /usr/local/lib/python3.6/dist-packages (from fiona->geopandas) (0.5.0)\n",
            "Requirement already satisfied: munch in /usr/local/lib/python3.6/dist-packages (from fiona->geopandas) (2.5.0)\n",
            "Requirement already satisfied: numpy>=1.13.3 in /usr/local/lib/python3.6/dist-packages (from pandas>=0.23.0->geopandas) (1.18.2)\n",
            "Requirement already satisfied: python-dateutil>=2.6.1 in /usr/local/lib/python3.6/dist-packages (from pandas>=0.23.0->geopandas) (2.8.1)\n",
            "Requirement already satisfied: pytz>=2017.2 in /usr/local/lib/python3.6/dist-packages (from pandas>=0.23.0->geopandas) (2018.9)\n"
          ],
          "name": "stdout"
        }
      ]
    },
    {
      "cell_type": "code",
      "metadata": {
        "id": "zRrJvdP4mCc2",
        "colab_type": "code",
        "outputId": "55ea31c7-6836-4b58-efcc-8d86db4e37d6",
        "colab": {
          "base_uri": "https://localhost:8080/",
          "height": 523
        }
      },
      "source": [
        "from shapely.geometry import Point, Polygon\n",
        "import geopandas as gpd\n",
        "import matplotlib.pyplot as plt\n",
        "crs = {'init': 'epsg:4326'}\n",
        "geometry = [Point(xy) for xy in zip(TrainCov_data['Long'], TrainCov_data['Lat'])]\n",
        "geo_df = gpd.GeoDataFrame(TrainCov_data, crs = crs, geometry = geometry)\n",
        "fig, ax = plt.subplots(figsize = (15, 10))\n",
        "world = gpd.read_file(gpd.datasets.get_path('naturalearth_lowres'))\n",
        "world.plot(ax = ax, color = \"black\")\n",
        "geo_df.plot(ax = ax, markersize = 5, color = \"yellow\", marker = \"o\")"
      ],
      "execution_count": 18,
      "outputs": [
        {
          "output_type": "stream",
          "text": [
            "/usr/local/lib/python3.6/dist-packages/pyproj/crs/crs.py:53: FutureWarning: '+init=<authority>:<code>' syntax is deprecated. '<authority>:<code>' is the preferred initialization method. When making the change, be mindful of axis order changes: https://pyproj4.github.io/pyproj/stable/gotchas.html#axis-order-changes-in-proj-6\n",
            "  return _prepare_from_string(\" \".join(pjargs))\n"
          ],
          "name": "stderr"
        },
        {
          "output_type": "execute_result",
          "data": {
            "text/plain": [
              "<matplotlib.axes._subplots.AxesSubplot at 0x7f70234856d8>"
            ]
          },
          "metadata": {
            "tags": []
          },
          "execution_count": 18
        },
        {
          "output_type": "display_data",
          "data": {
            "image/png": "[encoded data removed]",
            "text/plain": [
              "<Figure size 1080x720 with 1 Axes>"
            ]
          },
          "metadata": {
            "tags": []
          }
        }
      ]
    },
    {
      "cell_type": "code",
      "metadata": {
        "id": "pxcU-i_InBiC",
        "colab_type": "code",
        "outputId": "0de9ac31-eb4d-4baf-e8e9-70fa5257af03",
        "colab": {
          "base_uri": "https://localhost:8080/",
          "height": 426
        }
      },
      "source": [
        "import numpy as np\n",
        "fig, ax = plt.subplots(1, 2, figsize = (15, 5))\n",
        "fig1 = sns.barplot(sorted_df[\"Country/Region\"][:10], np.log(sorted_df[\"Fatalities\"][:10]), \n",
        "                   ax = ax[0], palette=sns.color_palette(\"GnBu_d\"))\n",
        "fig2 = sns.barplot(sorted_df[\"Country/Region\"][:10], sorted_df[\"DeathRatio\"][:10], \n",
        "                   ax = ax[1], palette=sns.color_palette(\"GnBu_d\"))\n",
        "fig1.set_xticklabels(fig1.get_xticklabels(), rotation=45)\n",
        "fig2.set_xticklabels(fig2.get_xticklabels(), rotation=45)\n",
        "fig1.set(ylabel = \"Log Fatalities\")\n",
        "fig1.set_title(\"Top 10 Log Fatality by Countries\", size = 20)\n",
        "fig2.set_title(\"Death Ratio by Countries\", size = 20)\n"
      ],
      "execution_count": 19,
      "outputs": [
        {
          "output_type": "execute_result",
          "data": {
            "text/plain": [
              "Text(0.5, 1.0, 'Death Ratio by Countries')"
            ]
          },
          "metadata": {
            "tags": []
          },
          "execution_count": 19
        },
        {
          "output_type": "display_data",
          "data": {
            "image/png": "[encoded data removed]",
            "text/plain": [
              "<Figure size 1080x360 with 2 Axes>"
            ]
          },
          "metadata": {
            "tags": []
          }
        }
      ]
    },
    {
      "cell_type": "code",
      "metadata": {
        "id": "KWczE_xuxRfv",
        "colab_type": "code",
        "outputId": "3b22884e-f9ed-445f-92fc-0a01d7a31d75",
        "colab": {
          "base_uri": "https://localhost:8080/",
          "height": 51
        }
      },
      "source": [
        "from scipy.stats import pearsonr,spearmanr\n",
        "df1 = sorted_df.dropna()\n",
        "\n",
        "corr, _ = pearsonr(df1[\"DeathRatio\"],df1[ 'ConfirmedCases'])\n",
        "\n",
        "print('Pearsons correlation: %.3f' % corr)\n",
        "cor2r, _ = spearmanr(df1[\"DeathRatio\"],df1[ 'ConfirmedCases'])\n",
        "print('Spearmans correlation: %.3f' % cor2r)"
      ],
      "execution_count": 20,
      "outputs": [
        {
          "output_type": "stream",
          "text": [
            "Pearsons correlation: 0.022\n",
            "Spearmans correlation: 0.522\n"
          ],
          "name": "stdout"
        }
      ]
    },
    {
      "cell_type": "code",
      "metadata": {
        "id": "tHhLTxI6_8fM",
        "colab_type": "code",
        "outputId": "e9e792da-db9b-428b-9b11-f99ab204e7db",
        "colab": {
          "base_uri": "https://localhost:8080/",
          "height": 51
        }
      },
      "source": [
        "\n",
        "corr, _ = pearsonr(df1[\"DeathRatio\"],df1[ 'Fatalities'])\n",
        "\n",
        "print('Pearsons correlation: %.3f' % corr)\n",
        "cor2r, _ = spearmanr(df1[\"DeathRatio\"],df1[ 'Fatalities'])\n",
        "print('Spearmans correlation: %.3f' % cor2r)"
      ],
      "execution_count": 21,
      "outputs": [
        {
          "output_type": "stream",
          "text": [
            "Pearsons correlation: 0.029\n",
            "Spearmans correlation: 0.945\n"
          ],
          "name": "stdout"
        }
      ]
    },
    {
      "cell_type": "code",
      "metadata": {
        "id": "AUUQ8mro6Iwd",
        "colab_type": "code",
        "outputId": "55128521-13b0-4828-e3e0-eee4b0510dee",
        "colab": {
          "base_uri": "https://localhost:8080/",
          "height": 764
        }
      },
      "source": [
        "sns.pairplot(TrainCov_data)"
      ],
      "execution_count": 22,
      "outputs": [
        {
          "output_type": "execute_result",
          "data": {
            "text/plain": [
              "<seaborn.axisgrid.PairGrid at 0x7f702d40e940>"
            ]
          },
          "metadata": {
            "tags": []
          },
          "execution_count": 22
        },
        {
          "output_type": "display_data",
          "data": {
            "image/png": "[encoded data removed]",
            "text/plain": [
              "<Figure size 720x720 with 20 Axes>"
            ]
          },
          "metadata": {
            "tags": []
          }
        }
      ]
    },
    {
      "cell_type": "code",
      "metadata": {
        "id": "GwxCWl126vbN",
        "colab_type": "code",
        "outputId": "014a12d7-61fc-4f7f-80c7-be2d844c4970",
        "colab": {
          "base_uri": "https://localhost:8080/",
          "height": 170
        }
      },
      "source": [
        "TrainCov_data.dtypes"
      ],
      "execution_count": 23,
      "outputs": [
        {
          "output_type": "execute_result",
          "data": {
            "text/plain": [
              "Province/State      object\n",
              "Country/Region      object\n",
              "Lat                float64\n",
              "Long               float64\n",
              "Date                object\n",
              "ConfirmedCases     float64\n",
              "Fatalities         float64\n",
              "geometry          geometry\n",
              "dtype: object"
            ]
          },
          "metadata": {
            "tags": []
          },
          "execution_count": 23
        }
      ]
    },
    {
      "cell_type": "code",
      "metadata": {
        "id": "1umpDN-vHwYU",
        "colab_type": "code",
        "colab": {}
      },
      "source": [
        "TrainCov_data['Date']=pd.to_datetime(TrainCov_data['Date'])"
      ],
      "execution_count": 0,
      "outputs": []
    },
    {
      "cell_type": "code",
      "metadata": {
        "id": "Zl7-P4NrH9OD",
        "colab_type": "code",
        "colab": {}
      },
      "source": [
        "TrainCov_data=TrainCov_data.set_index('Date')"
      ],
      "execution_count": 0,
      "outputs": []
    },
    {
      "cell_type": "code",
      "metadata": {
        "id": "6czHESd5IJFX",
        "colab_type": "code",
        "outputId": "5ae84146-ab77-47de-d091-45bdce6517f4",
        "colab": {
          "base_uri": "https://localhost:8080/",
          "height": 303
        }
      },
      "source": [
        "TrainCov_data['ConfirmedCases'].plot(grid=True)"
      ],
      "execution_count": 26,
      "outputs": [
        {
          "output_type": "execute_result",
          "data": {
            "text/plain": [
              "<matplotlib.axes._subplots.AxesSubplot at 0x7f702134c048>"
            ]
          },
          "metadata": {
            "tags": []
          },
          "execution_count": 26
        },
        {
          "output_type": "display_data",
          "data": {
            "image/png": "[encoded data removed]",
            "text/plain": [
              "<Figure size 432x288 with 1 Axes>"
            ]
          },
          "metadata": {
            "tags": []
          }
        }
      ]
    },
    {
      "cell_type": "code",
      "metadata": {
        "id": "F2dn1gEBLXo4",
        "colab_type": "code",
        "colab": {}
      },
      "source": [
        "y = TrainCov_data.resample('MS').mean()\n"
      ],
      "execution_count": 0,
      "outputs": []
    },
    {
      "cell_type": "code",
      "metadata": {
        "id": "NIs_J2qcV-ZF",
        "colab_type": "code",
        "outputId": "76c7d2d5-aebd-474d-995e-3e1c352215c2",
        "colab": {
          "base_uri": "https://localhost:8080/",
          "height": 173
        }
      },
      "source": [
        "y['2020':]"
      ],
      "execution_count": 28,
      "outputs": [
        {
          "output_type": "execute_result",
          "data": {
            "text/html": [
              "<div>\n",
              "<style scoped>\n",
              "    .dataframe tbody tr th:only-of-type {\n",
              "        vertical-align: middle;\n",
              "    }\n",
              "\n",
              "    .dataframe tbody tr th {\n",
              "        vertical-align: top;\n",
              "    }\n",
              "\n",
              "    .dataframe thead th {\n",
              "        text-align: right;\n",
              "    }\n",
              "</style>\n",
              "<table border=\"1\" class=\"dataframe\">\n",
              "  <thead>\n",
              "    <tr style=\"text-align: right;\">\n",
              "      <th></th>\n",
              "      <th>Lat</th>\n",
              "      <th>Long</th>\n",
              "      <th>ConfirmedCases</th>\n",
              "      <th>Fatalities</th>\n",
              "    </tr>\n",
              "    <tr>\n",
              "      <th>Date</th>\n",
              "      <th></th>\n",
              "      <th></th>\n",
              "      <th></th>\n",
              "      <th></th>\n",
              "    </tr>\n",
              "  </thead>\n",
              "  <tbody>\n",
              "    <tr>\n",
              "      <th>2020-01-01</th>\n",
              "      <td>26.287693</td>\n",
              "      <td>4.766191</td>\n",
              "      <td>13.554577</td>\n",
              "      <td>0.313028</td>\n",
              "    </tr>\n",
              "    <tr>\n",
              "      <th>2020-02-01</th>\n",
              "      <td>26.287693</td>\n",
              "      <td>4.766191</td>\n",
              "      <td>202.948397</td>\n",
              "      <td>5.694148</td>\n",
              "    </tr>\n",
              "    <tr>\n",
              "      <th>2020-03-01</th>\n",
              "      <td>26.287693</td>\n",
              "      <td>4.766191</td>\n",
              "      <td>455.526800</td>\n",
              "      <td>16.737872</td>\n",
              "    </tr>\n",
              "  </tbody>\n",
              "</table>\n",
              "</div>"
            ],
            "text/plain": [
              "                  Lat      Long  ConfirmedCases  Fatalities\n",
              "Date                                                       \n",
              "2020-01-01  26.287693  4.766191       13.554577    0.313028\n",
              "2020-02-01  26.287693  4.766191      202.948397    5.694148\n",
              "2020-03-01  26.287693  4.766191      455.526800   16.737872"
            ]
          },
          "metadata": {
            "tags": []
          },
          "execution_count": 28
        }
      ]
    },
    {
      "cell_type": "code",
      "metadata": {
        "id": "ENrr1Ka8WFqw",
        "colab_type": "code",
        "outputId": "644132b2-aee2-4187-8b5b-706f08366a8d",
        "colab": {
          "base_uri": "https://localhost:8080/",
          "height": 400
        }
      },
      "source": [
        "y.plot(figsize=(15, 6))\n",
        "plt.show()"
      ],
      "execution_count": 29,
      "outputs": [
        {
          "output_type": "display_data",
          "data": {
            "image/png": "[encoded data removed]",
            "text/plain": [
              "<Figure size 1080x432 with 1 Axes>"
            ]
          },
          "metadata": {
            "tags": []
          }
        }
      ]
    },
    {
      "cell_type": "code",
      "metadata": {
        "id": "W_m6QAfUWXJZ",
        "colab_type": "code",
        "outputId": "b6056ed3-f41e-44c6-c90d-bfc73b3aec34",
        "colab": {
          "base_uri": "https://localhost:8080/",
          "height": 272
        }
      },
      "source": [
        "TrainCov_data.head"
      ],
      "execution_count": 30,
      "outputs": [
        {
          "output_type": "execute_result",
          "data": {
            "text/plain": [
              "<bound method NDFrame.head of            Province/State  ...                    geometry\n",
              "Date                       ...                            \n",
              "2020-01-22            NaN  ...   POINT (65.00000 33.00000)\n",
              "2020-01-23            NaN  ...   POINT (65.00000 33.00000)\n",
              "2020-01-24            NaN  ...   POINT (65.00000 33.00000)\n",
              "2020-01-25            NaN  ...   POINT (65.00000 33.00000)\n",
              "2020-01-26            NaN  ...   POINT (65.00000 33.00000)\n",
              "...                   ...  ...                         ...\n",
              "2020-03-14            NaN  ...  POINT (28.28330 -15.41670)\n",
              "2020-03-15            NaN  ...  POINT (28.28330 -15.41670)\n",
              "2020-03-16            NaN  ...  POINT (28.28330 -15.41670)\n",
              "2020-03-17            NaN  ...  POINT (28.28330 -15.41670)\n",
              "2020-03-18            NaN  ...  POINT (28.28330 -15.41670)\n",
              "\n",
              "[16188 rows x 7 columns]>"
            ]
          },
          "metadata": {
            "tags": []
          },
          "execution_count": 30
        }
      ]
    },
    {
      "cell_type": "code",
      "metadata": {
        "id": "tMLArapwWyfz",
        "colab_type": "code",
        "outputId": "dc7382b4-0845-446c-9a25-20ff134ee045",
        "colab": {
          "base_uri": "https://localhost:8080/",
          "height": 153
        }
      },
      "source": [
        "#TrainCov_data.Country/Region=='Afghanistan'].value_counts()\n",
        "TrainCov_data[TrainCov_data['Country/Region']=='China'].count()"
      ],
      "execution_count": 31,
      "outputs": [
        {
          "output_type": "execute_result",
          "data": {
            "text/plain": [
              "Province/State    1881\n",
              "Country/Region    1881\n",
              "Lat               1881\n",
              "Long              1881\n",
              "ConfirmedCases    1881\n",
              "Fatalities        1881\n",
              "geometry          1881\n",
              "dtype: int64"
            ]
          },
          "metadata": {
            "tags": []
          },
          "execution_count": 31
        }
      ]
    },
    {
      "cell_type": "code",
      "metadata": {
        "id": "W7ndpkNEZ9lq",
        "colab_type": "code",
        "colab": {}
      },
      "source": [
        "Date_df = TrainCov_data.groupby(\"Date\").agg(\"sum\").sort_values(by=['Fatalities'], ascending=False)"
      ],
      "execution_count": 0,
      "outputs": []
    },
    {
      "cell_type": "code",
      "metadata": {
        "id": "6vNx4kTmbo4M",
        "colab_type": "code",
        "outputId": "bde3cf19-2f68-478e-d951-6d32e144ac3b",
        "colab": {
          "base_uri": "https://localhost:8080/",
          "height": 1000
        }
      },
      "source": [
        "\n",
        "Date_df"
      ],
      "execution_count": 33,
      "outputs": [
        {
          "output_type": "execute_result",
          "data": {
            "text/html": [
              "<div>\n",
              "<style scoped>\n",
              "    .dataframe tbody tr th:only-of-type {\n",
              "        vertical-align: middle;\n",
              "    }\n",
              "\n",
              "    .dataframe tbody tr th {\n",
              "        vertical-align: top;\n",
              "    }\n",
              "\n",
              "    .dataframe thead th {\n",
              "        text-align: right;\n",
              "    }\n",
              "</style>\n",
              "<table border=\"1\" class=\"dataframe\">\n",
              "  <thead>\n",
              "    <tr style=\"text-align: right;\">\n",
              "      <th></th>\n",
              "      <th>Lat</th>\n",
              "      <th>Long</th>\n",
              "      <th>ConfirmedCases</th>\n",
              "      <th>Fatalities</th>\n",
              "    </tr>\n",
              "    <tr>\n",
              "      <th>Date</th>\n",
              "      <th></th>\n",
              "      <th></th>\n",
              "      <th></th>\n",
              "      <th></th>\n",
              "    </tr>\n",
              "  </thead>\n",
              "  <tbody>\n",
              "    <tr>\n",
              "      <th>2020-03-18</th>\n",
              "      <td>7465.7049</td>\n",
              "      <td>1353.5983</td>\n",
              "      <td>214915.0</td>\n",
              "      <td>8733.0</td>\n",
              "    </tr>\n",
              "    <tr>\n",
              "      <th>2020-03-17</th>\n",
              "      <td>7465.7049</td>\n",
              "      <td>1353.5983</td>\n",
              "      <td>197145.0</td>\n",
              "      <td>7905.0</td>\n",
              "    </tr>\n",
              "    <tr>\n",
              "      <th>2020-03-16</th>\n",
              "      <td>7465.7049</td>\n",
              "      <td>1353.5983</td>\n",
              "      <td>181530.0</td>\n",
              "      <td>7126.0</td>\n",
              "    </tr>\n",
              "    <tr>\n",
              "      <th>2020-03-15</th>\n",
              "      <td>7465.7049</td>\n",
              "      <td>1353.5983</td>\n",
              "      <td>167449.0</td>\n",
              "      <td>6440.0</td>\n",
              "    </tr>\n",
              "    <tr>\n",
              "      <th>2020-03-14</th>\n",
              "      <td>7465.7049</td>\n",
              "      <td>1353.5983</td>\n",
              "      <td>156097.0</td>\n",
              "      <td>5819.0</td>\n",
              "    </tr>\n",
              "    <tr>\n",
              "      <th>2020-03-13</th>\n",
              "      <td>7465.7049</td>\n",
              "      <td>1353.5983</td>\n",
              "      <td>145193.0</td>\n",
              "      <td>5404.0</td>\n",
              "    </tr>\n",
              "    <tr>\n",
              "      <th>2020-03-12</th>\n",
              "      <td>7465.7049</td>\n",
              "      <td>1353.5983</td>\n",
              "      <td>128343.0</td>\n",
              "      <td>4720.0</td>\n",
              "    </tr>\n",
              "    <tr>\n",
              "      <th>2020-03-11</th>\n",
              "      <td>7465.7049</td>\n",
              "      <td>1353.5983</td>\n",
              "      <td>125865.0</td>\n",
              "      <td>4615.0</td>\n",
              "    </tr>\n",
              "    <tr>\n",
              "      <th>2020-03-10</th>\n",
              "      <td>7465.7049</td>\n",
              "      <td>1353.5983</td>\n",
              "      <td>118592.0</td>\n",
              "      <td>4262.0</td>\n",
              "    </tr>\n",
              "    <tr>\n",
              "      <th>2020-03-09</th>\n",
              "      <td>7465.7049</td>\n",
              "      <td>1353.5983</td>\n",
              "      <td>113044.0</td>\n",
              "      <td>3966.0</td>\n",
              "    </tr>\n",
              "    <tr>\n",
              "      <th>2020-03-08</th>\n",
              "      <td>7465.7049</td>\n",
              "      <td>1353.5983</td>\n",
              "      <td>109343.0</td>\n",
              "      <td>3781.0</td>\n",
              "    </tr>\n",
              "    <tr>\n",
              "      <th>2020-03-07</th>\n",
              "      <td>7465.7049</td>\n",
              "      <td>1353.5983</td>\n",
              "      <td>105485.0</td>\n",
              "      <td>3541.0</td>\n",
              "    </tr>\n",
              "    <tr>\n",
              "      <th>2020-03-06</th>\n",
              "      <td>7465.7049</td>\n",
              "      <td>1353.5983</td>\n",
              "      <td>101567.0</td>\n",
              "      <td>3446.0</td>\n",
              "    </tr>\n",
              "    <tr>\n",
              "      <th>2020-03-05</th>\n",
              "      <td>7465.7049</td>\n",
              "      <td>1353.5983</td>\n",
              "      <td>97710.0</td>\n",
              "      <td>3336.0</td>\n",
              "    </tr>\n",
              "    <tr>\n",
              "      <th>2020-03-04</th>\n",
              "      <td>7465.7049</td>\n",
              "      <td>1353.5983</td>\n",
              "      <td>95016.0</td>\n",
              "      <td>3243.0</td>\n",
              "    </tr>\n",
              "    <tr>\n",
              "      <th>2020-03-03</th>\n",
              "      <td>7465.7049</td>\n",
              "      <td>1353.5983</td>\n",
              "      <td>92767.0</td>\n",
              "      <td>3153.0</td>\n",
              "    </tr>\n",
              "    <tr>\n",
              "      <th>2020-03-02</th>\n",
              "      <td>7465.7049</td>\n",
              "      <td>1353.5983</td>\n",
              "      <td>90253.0</td>\n",
              "      <td>3079.0</td>\n",
              "    </tr>\n",
              "    <tr>\n",
              "      <th>2020-03-01</th>\n",
              "      <td>7465.7049</td>\n",
              "      <td>1353.5983</td>\n",
              "      <td>88339.0</td>\n",
              "      <td>2995.0</td>\n",
              "    </tr>\n",
              "    <tr>\n",
              "      <th>2020-02-29</th>\n",
              "      <td>7465.7049</td>\n",
              "      <td>1353.5983</td>\n",
              "      <td>85987.0</td>\n",
              "      <td>2940.0</td>\n",
              "    </tr>\n",
              "    <tr>\n",
              "      <th>2020-02-28</th>\n",
              "      <td>7465.7049</td>\n",
              "      <td>1353.5983</td>\n",
              "      <td>84104.0</td>\n",
              "      <td>2872.0</td>\n",
              "    </tr>\n",
              "    <tr>\n",
              "      <th>2020-02-27</th>\n",
              "      <td>7465.7049</td>\n",
              "      <td>1353.5983</td>\n",
              "      <td>82738.0</td>\n",
              "      <td>2814.0</td>\n",
              "    </tr>\n",
              "    <tr>\n",
              "      <th>2020-02-26</th>\n",
              "      <td>7465.7049</td>\n",
              "      <td>1353.5983</td>\n",
              "      <td>81380.0</td>\n",
              "      <td>2770.0</td>\n",
              "    </tr>\n",
              "    <tr>\n",
              "      <th>2020-02-25</th>\n",
              "      <td>7465.7049</td>\n",
              "      <td>1353.5983</td>\n",
              "      <td>80398.0</td>\n",
              "      <td>2708.0</td>\n",
              "    </tr>\n",
              "    <tr>\n",
              "      <th>2020-02-24</th>\n",
              "      <td>7465.7049</td>\n",
              "      <td>1353.5983</td>\n",
              "      <td>79553.0</td>\n",
              "      <td>2629.0</td>\n",
              "    </tr>\n",
              "    <tr>\n",
              "      <th>2020-02-23</th>\n",
              "      <td>7465.7049</td>\n",
              "      <td>1353.5983</td>\n",
              "      <td>78950.0</td>\n",
              "      <td>2469.0</td>\n",
              "    </tr>\n",
              "    <tr>\n",
              "      <th>2020-02-22</th>\n",
              "      <td>7465.7049</td>\n",
              "      <td>1353.5983</td>\n",
              "      <td>78564.0</td>\n",
              "      <td>2458.0</td>\n",
              "    </tr>\n",
              "    <tr>\n",
              "      <th>2020-02-21</th>\n",
              "      <td>7465.7049</td>\n",
              "      <td>1353.5983</td>\n",
              "      <td>76808.0</td>\n",
              "      <td>2251.0</td>\n",
              "    </tr>\n",
              "    <tr>\n",
              "      <th>2020-02-20</th>\n",
              "      <td>7465.7049</td>\n",
              "      <td>1353.5983</td>\n",
              "      <td>76184.0</td>\n",
              "      <td>2247.0</td>\n",
              "    </tr>\n",
              "    <tr>\n",
              "      <th>2020-02-19</th>\n",
              "      <td>7465.7049</td>\n",
              "      <td>1353.5983</td>\n",
              "      <td>75626.0</td>\n",
              "      <td>2122.0</td>\n",
              "    </tr>\n",
              "    <tr>\n",
              "      <th>2020-02-18</th>\n",
              "      <td>7465.7049</td>\n",
              "      <td>1353.5983</td>\n",
              "      <td>75123.0</td>\n",
              "      <td>2007.0</td>\n",
              "    </tr>\n",
              "    <tr>\n",
              "      <th>2020-02-17</th>\n",
              "      <td>7465.7049</td>\n",
              "      <td>1353.5983</td>\n",
              "      <td>73245.0</td>\n",
              "      <td>1868.0</td>\n",
              "    </tr>\n",
              "    <tr>\n",
              "      <th>2020-02-16</th>\n",
              "      <td>7465.7049</td>\n",
              "      <td>1353.5983</td>\n",
              "      <td>71211.0</td>\n",
              "      <td>1770.0</td>\n",
              "    </tr>\n",
              "    <tr>\n",
              "      <th>2020-02-15</th>\n",
              "      <td>7465.7049</td>\n",
              "      <td>1353.5983</td>\n",
              "      <td>69017.0</td>\n",
              "      <td>1666.0</td>\n",
              "    </tr>\n",
              "    <tr>\n",
              "      <th>2020-02-14</th>\n",
              "      <td>7465.7049</td>\n",
              "      <td>1353.5983</td>\n",
              "      <td>66872.0</td>\n",
              "      <td>1523.0</td>\n",
              "    </tr>\n",
              "    <tr>\n",
              "      <th>2020-02-13</th>\n",
              "      <td>7465.7049</td>\n",
              "      <td>1353.5983</td>\n",
              "      <td>60355.0</td>\n",
              "      <td>1371.0</td>\n",
              "    </tr>\n",
              "    <tr>\n",
              "      <th>2020-02-12</th>\n",
              "      <td>7465.7049</td>\n",
              "      <td>1353.5983</td>\n",
              "      <td>45209.0</td>\n",
              "      <td>1118.0</td>\n",
              "    </tr>\n",
              "    <tr>\n",
              "      <th>2020-02-11</th>\n",
              "      <td>7465.7049</td>\n",
              "      <td>1353.5983</td>\n",
              "      <td>44790.0</td>\n",
              "      <td>1113.0</td>\n",
              "    </tr>\n",
              "    <tr>\n",
              "      <th>2020-02-10</th>\n",
              "      <td>7465.7049</td>\n",
              "      <td>1353.5983</td>\n",
              "      <td>42751.0</td>\n",
              "      <td>1013.0</td>\n",
              "    </tr>\n",
              "    <tr>\n",
              "      <th>2020-02-09</th>\n",
              "      <td>7465.7049</td>\n",
              "      <td>1353.5983</td>\n",
              "      <td>40139.0</td>\n",
              "      <td>906.0</td>\n",
              "    </tr>\n",
              "    <tr>\n",
              "      <th>2020-02-08</th>\n",
              "      <td>7465.7049</td>\n",
              "      <td>1353.5983</td>\n",
              "      <td>37109.0</td>\n",
              "      <td>806.0</td>\n",
              "    </tr>\n",
              "    <tr>\n",
              "      <th>2020-02-07</th>\n",
              "      <td>7465.7049</td>\n",
              "      <td>1353.5983</td>\n",
              "      <td>34380.0</td>\n",
              "      <td>719.0</td>\n",
              "    </tr>\n",
              "    <tr>\n",
              "      <th>2020-02-06</th>\n",
              "      <td>7465.7049</td>\n",
              "      <td>1353.5983</td>\n",
              "      <td>30806.0</td>\n",
              "      <td>634.0</td>\n",
              "    </tr>\n",
              "    <tr>\n",
              "      <th>2020-02-05</th>\n",
              "      <td>7465.7049</td>\n",
              "      <td>1353.5983</td>\n",
              "      <td>27624.0</td>\n",
              "      <td>564.0</td>\n",
              "    </tr>\n",
              "    <tr>\n",
              "      <th>2020-02-04</th>\n",
              "      <td>7465.7049</td>\n",
              "      <td>1353.5983</td>\n",
              "      <td>23881.0</td>\n",
              "      <td>492.0</td>\n",
              "    </tr>\n",
              "    <tr>\n",
              "      <th>2020-02-03</th>\n",
              "      <td>7465.7049</td>\n",
              "      <td>1353.5983</td>\n",
              "      <td>19870.0</td>\n",
              "      <td>426.0</td>\n",
              "    </tr>\n",
              "    <tr>\n",
              "      <th>2020-02-02</th>\n",
              "      <td>7465.7049</td>\n",
              "      <td>1353.5983</td>\n",
              "      <td>16779.0</td>\n",
              "      <td>362.0</td>\n",
              "    </tr>\n",
              "    <tr>\n",
              "      <th>2020-02-01</th>\n",
              "      <td>7465.7049</td>\n",
              "      <td>1353.5983</td>\n",
              "      <td>12030.0</td>\n",
              "      <td>259.0</td>\n",
              "    </tr>\n",
              "    <tr>\n",
              "      <th>2020-01-31</th>\n",
              "      <td>7465.7049</td>\n",
              "      <td>1353.5983</td>\n",
              "      <td>9920.0</td>\n",
              "      <td>213.0</td>\n",
              "    </tr>\n",
              "    <tr>\n",
              "      <th>2020-01-30</th>\n",
              "      <td>7465.7049</td>\n",
              "      <td>1353.5983</td>\n",
              "      <td>8229.0</td>\n",
              "      <td>171.0</td>\n",
              "    </tr>\n",
              "    <tr>\n",
              "      <th>2020-01-29</th>\n",
              "      <td>7465.7049</td>\n",
              "      <td>1353.5983</td>\n",
              "      <td>6161.0</td>\n",
              "      <td>133.0</td>\n",
              "    </tr>\n",
              "    <tr>\n",
              "      <th>2020-01-28</th>\n",
              "      <td>7465.7049</td>\n",
              "      <td>1353.5983</td>\n",
              "      <td>5573.0</td>\n",
              "      <td>131.0</td>\n",
              "    </tr>\n",
              "    <tr>\n",
              "      <th>2020-01-27</th>\n",
              "      <td>7465.7049</td>\n",
              "      <td>1353.5983</td>\n",
              "      <td>2922.0</td>\n",
              "      <td>82.0</td>\n",
              "    </tr>\n",
              "    <tr>\n",
              "      <th>2020-01-26</th>\n",
              "      <td>7465.7049</td>\n",
              "      <td>1353.5983</td>\n",
              "      <td>2113.0</td>\n",
              "      <td>56.0</td>\n",
              "    </tr>\n",
              "    <tr>\n",
              "      <th>2020-01-25</th>\n",
              "      <td>7465.7049</td>\n",
              "      <td>1353.5983</td>\n",
              "      <td>1432.0</td>\n",
              "      <td>42.0</td>\n",
              "    </tr>\n",
              "    <tr>\n",
              "      <th>2020-01-24</th>\n",
              "      <td>7465.7049</td>\n",
              "      <td>1353.5983</td>\n",
              "      <td>939.0</td>\n",
              "      <td>26.0</td>\n",
              "    </tr>\n",
              "    <tr>\n",
              "      <th>2020-01-23</th>\n",
              "      <td>7465.7049</td>\n",
              "      <td>1353.5983</td>\n",
              "      <td>652.0</td>\n",
              "      <td>18.0</td>\n",
              "    </tr>\n",
              "    <tr>\n",
              "      <th>2020-01-22</th>\n",
              "      <td>7465.7049</td>\n",
              "      <td>1353.5983</td>\n",
              "      <td>554.0</td>\n",
              "      <td>17.0</td>\n",
              "    </tr>\n",
              "  </tbody>\n",
              "</table>\n",
              "</div>"
            ],
            "text/plain": [
              "                  Lat       Long  ConfirmedCases  Fatalities\n",
              "Date                                                        \n",
              "2020-03-18  7465.7049  1353.5983        214915.0      8733.0\n",
              "2020-03-17  7465.7049  1353.5983        197145.0      7905.0\n",
              "2020-03-16  7465.7049  1353.5983        181530.0      7126.0\n",
              "2020-03-15  7465.7049  1353.5983        167449.0      6440.0\n",
              "2020-03-14  7465.7049  1353.5983        156097.0      5819.0\n",
              "2020-03-13  7465.7049  1353.5983        145193.0      5404.0\n",
              "2020-03-12  7465.7049  1353.5983        128343.0      4720.0\n",
              "2020-03-11  7465.7049  1353.5983        125865.0      4615.0\n",
              "2020-03-10  7465.7049  1353.5983        118592.0      4262.0\n",
              "2020-03-09  7465.7049  1353.5983        113044.0      3966.0\n",
              "2020-03-08  7465.7049  1353.5983        109343.0      3781.0\n",
              "2020-03-07  7465.7049  1353.5983        105485.0      3541.0\n",
              "2020-03-06  7465.7049  1353.5983        101567.0      3446.0\n",
              "2020-03-05  7465.7049  1353.5983         97710.0      3336.0\n",
              "2020-03-04  7465.7049  1353.5983         95016.0      3243.0\n",
              "2020-03-03  7465.7049  1353.5983         92767.0      3153.0\n",
              "2020-03-02  7465.7049  1353.5983         90253.0      3079.0\n",
              "2020-03-01  7465.7049  1353.5983         88339.0      2995.0\n",
              "2020-02-29  7465.7049  1353.5983         85987.0      2940.0\n",
              "2020-02-28  7465.7049  1353.5983         84104.0      2872.0\n",
              "2020-02-27  7465.7049  1353.5983         82738.0      2814.0\n",
              "2020-02-26  7465.7049  1353.5983         81380.0      2770.0\n",
              "2020-02-25  7465.7049  1353.5983         80398.0      2708.0\n",
              "2020-02-24  7465.7049  1353.5983         79553.0      2629.0\n",
              "2020-02-23  7465.7049  1353.5983         78950.0      2469.0\n",
              "2020-02-22  7465.7049  1353.5983         78564.0      2458.0\n",
              "2020-02-21  7465.7049  1353.5983         76808.0      2251.0\n",
              "2020-02-20  7465.7049  1353.5983         76184.0      2247.0\n",
              "2020-02-19  7465.7049  1353.5983         75626.0      2122.0\n",
              "2020-02-18  7465.7049  1353.5983         75123.0      2007.0\n",
              "2020-02-17  7465.7049  1353.5983         73245.0      1868.0\n",
              "2020-02-16  7465.7049  1353.5983         71211.0      1770.0\n",
              "2020-02-15  7465.7049  1353.5983         69017.0      1666.0\n",
              "2020-02-14  7465.7049  1353.5983         66872.0      1523.0\n",
              "2020-02-13  7465.7049  1353.5983         60355.0      1371.0\n",
              "2020-02-12  7465.7049  1353.5983         45209.0      1118.0\n",
              "2020-02-11  7465.7049  1353.5983         44790.0      1113.0\n",
              "2020-02-10  7465.7049  1353.5983         42751.0      1013.0\n",
              "2020-02-09  7465.7049  1353.5983         40139.0       906.0\n",
              "2020-02-08  7465.7049  1353.5983         37109.0       806.0\n",
              "2020-02-07  7465.7049  1353.5983         34380.0       719.0\n",
              "2020-02-06  7465.7049  1353.5983         30806.0       634.0\n",
              "2020-02-05  7465.7049  1353.5983         27624.0       564.0\n",
              "2020-02-04  7465.7049  1353.5983         23881.0       492.0\n",
              "2020-02-03  7465.7049  1353.5983         19870.0       426.0\n",
              "2020-02-02  7465.7049  1353.5983         16779.0       362.0\n",
              "2020-02-01  7465.7049  1353.5983         12030.0       259.0\n",
              "2020-01-31  7465.7049  1353.5983          9920.0       213.0\n",
              "2020-01-30  7465.7049  1353.5983          8229.0       171.0\n",
              "2020-01-29  7465.7049  1353.5983          6161.0       133.0\n",
              "2020-01-28  7465.7049  1353.5983          5573.0       131.0\n",
              "2020-01-27  7465.7049  1353.5983          2922.0        82.0\n",
              "2020-01-26  7465.7049  1353.5983          2113.0        56.0\n",
              "2020-01-25  7465.7049  1353.5983          1432.0        42.0\n",
              "2020-01-24  7465.7049  1353.5983           939.0        26.0\n",
              "2020-01-23  7465.7049  1353.5983           652.0        18.0\n",
              "2020-01-22  7465.7049  1353.5983           554.0        17.0"
            ]
          },
          "metadata": {
            "tags": []
          },
          "execution_count": 33
        }
      ]
    },
    {
      "cell_type": "code",
      "metadata": {
        "id": "z3A7_QUAbvAR",
        "colab_type": "code",
        "colab": {}
      },
      "source": [
        "\n",
        "bycountry=TrainCov_data[TrainCov_data['Country/Region']=='Egypt']\n",
        "#TrainCov_data['ConfirmedCases'].plot(grid=True)"
      ],
      "execution_count": 0,
      "outputs": []
    },
    {
      "cell_type": "code",
      "metadata": {
        "id": "eUsWFz6vcavP",
        "colab_type": "code",
        "colab": {
          "base_uri": "https://localhost:8080/",
          "height": 331
        },
        "outputId": "a564071c-cb07-43c9-bc80-dd8a110c0d61"
      },
      "source": [
        "bycountry['ConfirmedCases'].plot(grid=True)"
      ],
      "execution_count": 35,
      "outputs": [
        {
          "output_type": "execute_result",
          "data": {
            "text/plain": [
              "<matplotlib.axes._subplots.AxesSubplot at 0x7f7021446b70>"
            ]
          },
          "metadata": {
            "tags": []
          },
          "execution_count": 35
        },
        {
          "output_type": "display_data",
          "data": {
            "image/png": "[encoded data removed]",
            "text/plain": [
              "<Figure size 432x288 with 1 Axes>"
            ]
          },
          "metadata": {
            "tags": []
          }
        }
      ]
    },
    {
      "cell_type": "code",
      "metadata": {
        "id": "nvSLsPwym_bN",
        "colab_type": "code",
        "colab": {
          "base_uri": "https://localhost:8080/",
          "height": 34
        },
        "outputId": "3bcc525b-54bd-4472-c6d5-81c6c736d5b8"
      },
      "source": [
        "from sklearn import linear_model\n",
        "from sklearn.preprocessing import PolynomialFeatures\n",
        "from sklearn.pipeline import Pipeline\n",
        "from sklearn.linear_model import LinearRegression\n",
        "test = pd.read_csv('/content/test.csv')\n",
        "TrainCov_data.columns\n",
        "\n"
      ],
      "execution_count": 42,
      "outputs": [
        {
          "output_type": "execute_result",
          "data": {
            "text/plain": [
              "(16188, 4)"
            ]
          },
          "metadata": {
            "tags": []
          },
          "execution_count": 42
        }
      ]
    },
    {
      "cell_type": "code",
      "metadata": {
        "id": "2poAAyuwo-ke",
        "colab_type": "code",
        "colab": {
          "base_uri": "https://localhost:8080/",
          "height": 71
        },
        "outputId": "a7d50481-814a-405e-b11f-f66605eefd88"
      },
      "source": [
        "\n",
        "for country in TrainCov_data['Country/Region'].unique():\n",
        "      #print ('training model for country ==>'+country)\n",
        "\n",
        "      bycountry= TrainCov_data[ TrainCov_data['Country/Region']=='country']\n",
        "\n",
        "      Testbycountry=test[test['Country/Region']=='country']\n",
        "      if bycountry['Province/State'].isna().unique()==True:\n",
        "          Model=Pipeline([('poly', PolynomialFeatures(degree=2)),('linear', LinearRegression(fit_intercept=False))])\n",
        "          print( bycountry.columns)\n",
        "          X_train=bycountry[['Province/State', 'Country/Region', 'Lat', 'Long']]\n",
        "          y = bycountry['ConfirmedCases']\n",
        "          Model.fit(  bycountry,y)\n",
        "          print(Model.score())\n",
        "          predict_x = (np.array(range(len(Testbycountry)))+50).reshape((-1,1))\n",
        "          #test.loc[(test['Country/Region']==country)and'ConfirmedCases'] = model.predict(predict_x)\n",
        "      # print(test['ConfirmedCases']\n"
      ],
      "execution_count": 57,
      "outputs": [
        {
          "output_type": "stream",
          "text": [
            "/usr/local/lib/python3.6/dist-packages/ipykernel_launcher.py:8: DeprecationWarning: The truth value of an empty array is ambiguous. Returning False, but in future this will result in an error. Use `array.size > 0` to check that an array is not empty.\n",
            "  \n"
          ],
          "name": "stderr"
        }
      ]
    },
    {
      "cell_type": "code",
      "metadata": {
        "id": "0kWohxJQqK6A",
        "colab_type": "code",
        "colab": {}
      },
      "source": [
        "test.columns"
      ],
      "execution_count": 0,
      "outputs": []
    },
    {
      "cell_type": "code",
      "metadata": {
        "id": "p8nLP4RKveaE",
        "colab_type": "code",
        "colab": {}
      },
      "source": [
        ""
      ],
      "execution_count": 0,
      "outputs": []
    }
  ]
}